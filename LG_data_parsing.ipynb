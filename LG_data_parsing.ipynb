{
 "cells": [
  {
   "cell_type": "code",
   "execution_count": 2,
   "metadata": {
    "collapsed": true
   },
   "outputs": [],
   "source": [
    "import pandas as pd\n",
    "import matplotlib.pyplot as plt\n",
    "import math\n",
    "import seaborn\n",
    "import os"
   ]
  },
  {
   "cell_type": "code",
   "execution_count": 11,
   "metadata": {
    "scrolled": false
   },
   "outputs": [
    {
     "name": "stdout",
     "output_type": "stream",
     "text": [
      "20191216155552.record.00000-ego.csv\n",
      "20191216155552.record.00001-ego.csv\n",
      "20191216155552.record.00002-ego.csv\n",
      "20191216155552.record.00003-ego.csv\n"
     ]
    },
    {
     "name": "stderr",
     "output_type": "stream",
     "text": [
      "/anaconda3/lib/python3.6/site-packages/ipykernel_launcher.py:25: SettingWithCopyWarning: \n",
      "A value is trying to be set on a copy of a slice from a DataFrame\n",
      "\n",
      "See the caveats in the documentation: http://pandas.pydata.org/pandas-docs/stable/indexing.html#indexing-view-versus-copy\n",
      "/anaconda3/lib/python3.6/site-packages/ipykernel_launcher.py:32: SettingWithCopyWarning: \n",
      "A value is trying to be set on a copy of a slice from a DataFrame\n",
      "\n",
      "See the caveats in the documentation: http://pandas.pydata.org/pandas-docs/stable/indexing.html#indexing-view-versus-copy\n"
     ]
    },
    {
     "name": "stdout",
     "output_type": "stream",
     "text": [
      "1576540563.933052\n",
      "thresholdDistance 35.939845599320684\n",
      "hesitate_time:  5.227062940597534\n",
      "pedestrian walk distance:  0.3529732078473092\n"
     ]
    },
    {
     "data": {
      "image/png": "[encoded data removed]",
      "text/plain": [
       "<matplotlib.figure.Figure at 0x112bbb080>"
      ]
     },
     "metadata": {},
     "output_type": "display_data"
    },
    {
     "data": {
      "image/png": "[encoded data removed]",
      "text/plain": [
       "<matplotlib.figure.Figure at 0x1166f2dd8>"
      ]
     },
     "metadata": {},
     "output_type": "display_data"
    }
   ],
   "source": [
    "directory_path = \"./LG_DATA/scenario_A_v2/2019-12-16-15-55-52\"\n",
    "ped_table_list = []\n",
    "ego_table_list = []\n",
    "\n",
    "for file in sorted(os.listdir(directory_path)):\n",
    "    if(\"pedestrian\" in file.split('-')[1]):\n",
    "        path_to_file = os.path.join(directory_path, file)\n",
    "        ped_table_list.append(pd.read_csv(path_to_file, sep=';'))\n",
    "    else:\n",
    "        print(file)\n",
    "        path_to_file = os.path.join(directory_path, file)\n",
    "        ego_table_list.append(pd.read_csv(path_to_file, sep=';'))\n",
    "\n",
    "\n",
    "# combine different pedestrian .csvs into one dataframe\n",
    "pedestrian_table = pd.concat(ped_table_list, ignore_index=True)\n",
    "ego_table        = pd.concat(ego_table_list, ignore_index=True)\n",
    "pd.set_option('display.float_format', lambda x: '%.3f' % x)        \n",
    "\n",
    "# Initialize a new column for \"velocity\" and populate with velocity computed from velocity_x and velocity_y\n",
    "# with a Euclidean metric\n",
    "pedestrian_table['velocity'] = 0\n",
    "pedestrian_table['velocity'].apply(pd.to_numeric)\n",
    "for index, row in pedestrian_table.iterrows():\n",
    "    pedestrian_table['velocity'][index] = round(math.sqrt( math.pow(pedestrian_table['velocity_x'][index],2) +  math.pow(pedestrian_table['velocity_y'][index],2) ))\n",
    "\n",
    "# Initialize a new column for \"acceleration\" and populate with velocity computed from acceleration_x and acceleration_y\n",
    "# with a Euclidean metric\n",
    "pedestrian_table['acceleration'] = 0\n",
    "pedestrian_table['acceleration'].apply(pd.to_numeric)\n",
    "for index, row in pedestrian_table.iterrows():\n",
    "    pedestrian_table['acceleration'][index] = round(math.sqrt( math.pow(pedestrian_table['acceleration_x'][index],2) +  math.pow(pedestrian_table['acceleration_y'][index],2) ))\n",
    "\n",
    "\n",
    "# Parse Scenic Parameters\n",
    "pos_stopped = []\n",
    "pos_moving = []\n",
    "stopped = True\n",
    "moving  = False\n",
    "hesitate = False\n",
    "recorded = False\n",
    "ped_trigger_time = -1\n",
    "hesitate_start_time = -1\n",
    "hesitate_stop_time = -1\n",
    "ped_start_pos = [pedestrian_table.iloc[0]['position_x'], pedestrian_table.iloc[0]['position_y']]\n",
    "ped_stop_pos  = []\n",
    "\n",
    "for index, row in pedestrian_table.iterrows():\n",
    "    if index <= pedestrian_table.shape[0]-3 and index > 3:\n",
    "        \n",
    "        # Arbitrarily take the moving avg of three consequtive indices\n",
    "        vel_list = pedestrian_table['velocity'][index:index+3]\n",
    "        vel = sum(vel_list)/len(vel_list)\n",
    "\n",
    "        # Indicates that the pedestrian is stopped\n",
    "        if vel >= 1:\n",
    "            pos_moving.append(index)\n",
    "\n",
    "            if stopped:\n",
    "                stopped = False\n",
    "                moving  = True\n",
    "\n",
    "                if not recorded:\n",
    "                    ped_trigger_time = row['timestamp_sec']\n",
    "                    recorded = True\n",
    "\n",
    "                if hesitate:\n",
    "                    hesitate_stop_time = row['timestamp_sec']\n",
    "                    break\n",
    "\n",
    "\n",
    "        if  vel <= 0.5:\n",
    "            pos_stopped.append(index)\n",
    "\n",
    "            if moving:\n",
    "                stopped = True\n",
    "                moving  = False\n",
    "                hesitate_start_time = row['timestamp_sec']\n",
    "                ped_stop_pos = [row['position_x'], row['position_y']]\n",
    "                hesitate = True\n",
    "\n",
    "if(ped_trigger_time != -1):\n",
    "    ped_trigger_index  = pedestrian_table.index[pedestrian_table['timestamp_sec'] == ped_trigger_time]\n",
    "    print(ped_trigger_time)\n",
    "    ped_trigger_pos_x  = pedestrian_table['position_x'][ped_trigger_index.tolist()[0]]\n",
    "    ped_trigger_pos_y  = pedestrian_table['position_y'][ped_trigger_index.tolist()[0]]\n",
    "\n",
    "    ego_trigger_index  = ego_table.index[round(ego_table['timestamp_sec'],0) == round(ped_trigger_time,0)]\n",
    "    ego_trigger_pos_x  = ego_table['position_x'][ego_trigger_index.tolist()[0]]\n",
    "    ego_trigger_pos_y  = ego_table['position_y'][ego_trigger_index.tolist()[0]]\n",
    "\n",
    "    threshold_dist = math.sqrt(math.pow(ego_trigger_pos_x-ped_trigger_pos_x,2) + math.pow(ped_trigger_pos_y-ego_trigger_pos_y,2))\n",
    "    hesitate_time  = hesitate_stop_time-hesitate_start_time\n",
    "    ped_walkDistance = math.sqrt(math.pow(ped_start_pos[0]-ped_stop_pos[0],2) + math.pow(ped_start_pos[1]-ped_stop_pos[1],2))\n",
    "\n",
    "    print(\"thresholdDistance\", threshold_dist)\n",
    "    print(\"hesitate_time: \", hesitate_time)\n",
    "    print(\"pedestrian walk distance: \", ped_walkDistance)\n",
    "\n",
    "    ax = pedestrian_table.plot(kind='scatter',x='timestamp_sec',y='velocity',color='green')\n",
    "    plt.axvline(ped_trigger_time)\n",
    "    plt.axvline(hesitate_start_time)\n",
    "    plt.axvline(hesitate_stop_time)\n",
    "    plt.show()\n",
    "    \n",
    "    ax = pedestrian_table.plot(kind='scatter',x='timestamp_sec',y='velocity',color='green')\n",
    "    pedestrian_table.plot(kind='scatter',x='timestamp_sec',y='acceleration', marker = 'x' ,ax = ax ,color='red')\n",
    "    plt.axvline(ped_trigger_time)\n",
    "    plt.axvline(hesitate_start_time)\n",
    "    plt.axvline(hesitate_stop_time)\n",
    "    plt.show()\n"
   ]
  },
  {
   "cell_type": "code",
   "execution_count": null,
   "metadata": {
    "collapsed": true
   },
   "outputs": [],
   "source": []
  }
 ],
 "metadata": {
  "kernelspec": {
   "display_name": "Python 3",
   "language": "python",
   "name": "python3"
  },
  "language_info": {
   "codemirror_mode": {
    "name": "ipython",
    "version": 3
   },
   "file_extension": ".py",
   "mimetype": "text/x-python",
   "name": "python",
   "nbconvert_exporter": "python",
   "pygments_lexer": "ipython3",
   "version": "3.6.2"
  }
 },
 "nbformat": 4,
 "nbformat_minor": 2
}
