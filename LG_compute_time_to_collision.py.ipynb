{
 "cells": [
  {
   "cell_type": "code",
   "execution_count": 1,
   "metadata": {
    "collapsed": true
   },
   "outputs": [],
   "source": [
    "import pandas as pd\n",
    "import matplotlib.pyplot as plt\n",
    "import math\n",
    "import seaborn\n",
    "import os"
   ]
  },
  {
   "cell_type": "code",
   "execution_count": 2,
   "metadata": {
    "collapsed": true
   },
   "outputs": [],
   "source": [
    "def compute_distance(gps_coordinate1, gps_coordinate2):\n",
    "    ## gps_coordinate1 = [latitude, longitude]\n",
    "    R = 6371e3;\n",
    "    latitude1 = math.radians(gps_coordinate1[0])\n",
    "    latitude2 = math.radians(gps_coordinate2[0])\n",
    "    longitude1= gps_coordinate1[1]\n",
    "    longitude2= gps_coordinate2[1]\n",
    "    \n",
    "    lat_diff = latitude2 - latitude1\n",
    "    long_diff= math.radians(longitude2- longitude1)\n",
    "    \n",
    "    a = math.pow(math.sin(lat_diff/2), 2) + \\\n",
    "        math.cos(latitude1) * math.cos(latitude2) * \\\n",
    "        math.pow(math.sin(long_diff/2), 2)\n",
    "    \n",
    "    c = 2 * math.atan2(math.sqrt(a), math.sqrt(1-a))\n",
    "    distance = R * c\n",
    "    \n",
    "    return distance"
   ]
  },
  {
   "cell_type": "code",
   "execution_count": 3,
   "metadata": {},
   "outputs": [],
   "source": [
    "def compute_distance2(gps_coordinate1, gps_coordinate2):\n",
    "    ## gps_coordinate1 = [latitude, longitude]\n",
    "\n",
    "    latitude1 = gps_coordinate1[0]\n",
    "    latitude2 = gps_coordinate2[0]\n",
    "    longitude1= gps_coordinate1[1]\n",
    "    longitude2= gps_coordinate2[1]\n",
    "    \n",
    "    lat_diff_square = math.pow(latitude2-latitude1,2)\n",
    "    long_diff_square = math.pow(longitude2-longitude1,2)\n",
    "    \n",
    "    return math.sqrt(lat_diff_square + long_diff_square)"
   ]
  },
  {
   "cell_type": "code",
   "execution_count": 4,
   "metadata": {},
   "outputs": [
    {
     "name": "stdout",
     "output_type": "stream",
     "text": [
      "./LG_DATA/January_GoMentum/failure3/2020-01-28-14-40-41\n"
     ]
    },
    {
     "name": "stderr",
     "output_type": "stream",
     "text": [
      "/anaconda3/lib/python3.6/site-packages/ipykernel_launcher.py:48: SettingWithCopyWarning: \n",
      "A value is trying to be set on a copy of a slice from a DataFrame.\n",
      "Try using .loc[row_indexer,col_indexer] = value instead\n",
      "\n",
      "See the caveats in the documentation: http://pandas.pydata.org/pandas-docs/stable/indexing.html#indexing-view-versus-copy\n",
      "/anaconda3/lib/python3.6/site-packages/ipykernel_launcher.py:53: SettingWithCopyWarning: \n",
      "A value is trying to be set on a copy of a slice from a DataFrame\n",
      "\n",
      "See the caveats in the documentation: http://pandas.pydata.org/pandas-docs/stable/indexing.html#indexing-view-versus-copy\n",
      "/anaconda3/lib/python3.6/site-packages/IPython/core/interactiveshell.py:2862: SettingWithCopyWarning: \n",
      "A value is trying to be set on a copy of a slice from a DataFrame\n",
      "\n",
      "See the caveats in the documentation: http://pandas.pydata.org/pandas-docs/stable/indexing.html#indexing-view-versus-copy\n",
      "  exec(code_obj, self.user_global_ns, self.user_ns)\n"
     ]
    },
    {
     "data": {
      "image/png": "[encoded data removed]",
      "text/plain": [
       "<matplotlib.figure.Figure at 0x10ee14e48>"
      ]
     },
     "metadata": {},
     "output_type": "display_data"
    },
    {
     "data": {
      "image/png": "[encoded data removed]",
      "text/plain": [
       "<matplotlib.figure.Figure at 0x10eeb8390>"
      ]
     },
     "metadata": {},
     "output_type": "display_data"
    },
    {
     "name": "stdout",
     "output_type": "stream",
     "text": [
      "min Time-to-Collision:  4.8822562840499755\n"
     ]
    }
   ],
   "source": [
    "scenario_path = \"./LG_DATA/January_GoMentum/failure3/\"\n",
    "ped_table_list = []\n",
    "ego_table_list = []\n",
    "\n",
    "i = 0\n",
    "\n",
    "for directory in sorted([d for d in os.listdir(scenario_path) if not d.endswith('.DS_Store')]):\n",
    "    if i >= 1:\n",
    "        break\n",
    "    i += 1\n",
    "    \n",
    "    for file in sorted([f for f in os.listdir(os.path.join(scenario_path, directory)) if f.endswith('.csv')]):\n",
    "        directory_path = os.path.join(scenario_path, directory)\n",
    "        if(\"pedestrian\" in file.split('-')[1]):\n",
    "            path_to_file = os.path.join(directory_path, file)\n",
    "            ped_table_list.append(pd.read_csv(path_to_file, sep=';'))\n",
    "        else:\n",
    "            path_to_file = os.path.join(directory_path, file)\n",
    "            ego_table_list.append(pd.read_csv(path_to_file, sep=';'))\n",
    "\n",
    "    # combine different pedestrian .csvs into one dataframe\n",
    "    pedestrian_table = pd.concat(ped_table_list, ignore_index=True)\n",
    "    ego_table        = pd.concat(ego_table_list, ignore_index=True)\n",
    "    pd.set_option('display.float_format', lambda x: '%.3f' % x)     \n",
    "\n",
    "    time = []\n",
    "    indices = []\n",
    "    count = -1\n",
    "    for index, row in pedestrian_table.iterrows():\n",
    "        count +=1\n",
    "        if row['position_x'] > 586615.7 and row['position_x'] < 586616 and row['position_y'] < 4208090.5:\n",
    "            time.append(row['timestamp_sec'])\n",
    "            indices.append(count)\n",
    "    \n",
    "    pedestrian_start_time = pedestrian_table['timestamp_sec'][0]\n",
    "    pedestrian_crossed_time = min(time)\n",
    "    pedestrian_crossed_index = min(indices)\n",
    "    \n",
    "    print(os.path.join(scenario_path, directory))\n",
    "    \n",
    "#     pedestrian_table.plot(kind='scatter', x='position_x', y='position_y', color='green')\n",
    "#     plt.axvline(pedestrian_table['position_x'][pedestrian_crossed_index])\n",
    "#     plt.show()\n",
    "    \n",
    "    ego_parsed_table = ego_table[(ego_table.timestamp_sec >= pedestrian_start_time) & (ego_table.timestamp_sec <= pedestrian_crossed_time)]\n",
    "    \n",
    "    ego_parsed_table['velocity'] = 0\n",
    "    ego_parsed_table['velocity'].apply(pd.to_numeric)\n",
    "    \n",
    "    for index, row in ego_parsed_table.iterrows():\n",
    "        ego_parsed_table['velocity'][index] = math.sqrt( float(ego_parsed_table['linear_vel_x'][index])*float(ego_parsed_table['linear_vel_x'][index]) \n",
    "                                                        + float(ego_parsed_table['linear_vel_y'][index])*float(ego_parsed_table['linear_vel_y'][index]))\n",
    "\n",
    "    ego_parsed_table.plot(kind='scatter', x = 'timestamp_sec', y = 'velocity', color='red')\n",
    "    plt.show()\n",
    "    \n",
    "    min_x = 0\n",
    "    min_TTC = 1000\n",
    "    TTC_list = []\n",
    "    for index, row in pedestrian_table.iterrows():\n",
    "        table = ego_parsed_table.loc[(ego_parsed_table['timestamp_sec'] >= pedestrian_start_time) &\n",
    "                                     (ego_parsed_table['timestamp_sec'] <=pedestrian_start_time+0.2)]\n",
    "        ego_velocity = table.iloc[0]['velocity']\n",
    "        distance = compute_distance2([row['position_x'], row['position_y']],[table.iloc[0]['position_x'], \n",
    "                                                                           table.iloc[0]['position_y']])\n",
    "        \n",
    "        TTC = float(distance / ego_velocity)\n",
    "        TTC_list.append(TTC)\n",
    "        if TTC < min_TTC:\n",
    "            min_TTC = TTC\n",
    "            min_x   = table.iloc[0]['position_x']\n",
    "    \n",
    "    ax = ego_parsed_table.plot(kind='scatter', x ='position_x', y = 'position_y', color='green')\n",
    "    pedestrian_table.plot(kind='scatter', x='position_x', y='position_y', color='red',ax =ax)\n",
    "    plt.axvline(pedestrian_table['position_x'][pedestrian_crossed_index], color = 'blue')\n",
    "    plt.axvline(min_x, color ='yellow')\n",
    "    plt.show()\n",
    "        \n",
    "    print(\"min Time-to-Collision: \", min_TTC)\n",
    "    \n",
    "        \n",
    "    \n",
    "\n",
    "\n"
   ]
  },
  {
   "cell_type": "code",
   "execution_count": 13,
   "metadata": {},
   "outputs": [
    {
     "name": "stdout",
     "output_type": "stream",
     "text": [
      "5.361721185606174\n"
     ]
    },
    {
     "data": {
      "image/png": "[encoded data removed]",
      "text/plain": [
       "<matplotlib.figure.Figure at 0x10eddc0b8>"
      ]
     },
     "metadata": {},
     "output_type": "display_data"
    }
   ],
   "source": [
    "last = ego_parsed_table.iloc[-1]\n",
    "\n",
    "x = last['position_x']\n",
    "y = last['position_y']\n",
    "time = last['timestamp_sec']\n",
    "\n",
    "t = pedestrian_table.loc[(pedestrian_table['timestamp_sec'] >= time - 0.1) &\n",
    "                                     (pedestrian_table['timestamp_sec'] <= time + 0.1)]\n",
    "\n",
    "ped = t.iloc[0]\n",
    "p_x = ped['position_x']\n",
    "p_y = ped['position_y']\n",
    "p_time = ped['timestamp_sec']\n",
    "\n",
    "print(compute_distance2([x,y],[p_x, p_y]))\n",
    "ax = ego_parsed_table.plot(kind='scatter', x ='position_x', y = 'position_y', color='green')\n",
    "pedestrian_table.plot(kind='scatter', x='position_x', y='position_y', color='red',ax =ax)\n",
    "plt.axvline(x, color = 'blue')\n",
    "plt.axvline(p_x, color ='yellow')\n",
    "plt.show()"
   ]
  },
  {
   "cell_type": "code",
   "execution_count": 61,
   "metadata": {},
   "outputs": [
    {
     "data": {
      "text/plain": [
       "1656866.9355154887"
      ]
     },
     "execution_count": 61,
     "metadata": {},
     "output_type": "execute_result"
    }
   ],
   "source": [
    "distance"
   ]
  },
  {
   "cell_type": "code",
   "execution_count": null,
   "metadata": {
    "collapsed": true
   },
   "outputs": [],
   "source": []
  }
 ],
 "metadata": {
  "kernelspec": {
   "display_name": "Python 3",
   "language": "python",
   "name": "python3"
  },
  "language_info": {
   "codemirror_mode": {
    "name": "ipython",
    "version": 3
   },
   "file_extension": ".py",
   "mimetype": "text/x-python",
   "name": "python",
   "nbconvert_exporter": "python",
   "pygments_lexer": "ipython3",
   "version": "3.6.2"
  }
 },
 "nbformat": 4,
 "nbformat_minor": 2
}
